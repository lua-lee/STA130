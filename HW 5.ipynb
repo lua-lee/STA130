{
 "cells": [
  {
   "cell_type": "markdown",
   "id": "17a16ae0",
   "metadata": {},
   "source": [
    "Q1. "
   ]
  },
  {
   "cell_type": "markdown",
   "id": "374487a7",
   "metadata": {},
   "source": [
    "The \"first pre-lecture video\" (above) describes hypothesis testing as addressing \"an idea that can be tested\", and the end of the video then discusses what our actual intended purpose in setting up a null hypothesis is. \n",
    "\n",
    "1. What is the key factor that makes the difference between ideas that can, and cannot be examined and tested statistically? \n",
    "Ideas that we can prove has something to compare with. It should also have some data we can look at or tell us whether it can be disproven. We need to be able to collect and analyze data that could potentially challenge the idea. \n",
    "\n",
    "2. What would you describe is the key \"criteria\" defining what a good null hypothesis is? \n",
    "A good null hypothesis is specific, clear, and directly related to the research question. It should be formulated for statistical analysis, meaning it is based on population parameters that can be estimated from sample data. In simple terms, the null hypothesis should involve clear, testable data.\n",
    "\n",
    "3. And what is the difference between a null hypothesis and an alternative hypothesis in the context of hypothesis testing? \n",
    "The null hypothesis is the statement we want to test, and the alternative hypothesis covers all other possibilities. The null hypothesis is assumed true until evidence proves otherwise. It typically represents the status quo or a widely accepted belief, while the alternative hypothesis reflects the researcher's idea or the change being investigated. The goal of hypothesis testing is to determine if the data provides enough evidence to reject the null hypothesis in favor of the alternative hypothesis."
   ]
  },
  {
   "cell_type": "markdown",
   "id": "7d4ea66e",
   "metadata": {},
   "source": [
    "## Summary of Our Conversation About Hypothesis Testing\n",
    "\n",
    "Initially, you inquired about the criteria for testable ideas, the characteristics of a strong null hypothesis, and the distinction between null and alternative hypotheses in the context of hypothesis testing. You offered your initial understanding of these concepts, drawing from the provided YouTube transcript about hypothesis testing.\n",
    "\n",
    "The conversation then explored your initial understanding, confirming the importance of data and comparison for testable ideas. It also clarified that while a good null hypothesis requires testable data, quality and relevance are more important than quantity. The discussion emphasized the goal of rejecting the null hypothesis in favour of the alternative hypothesis.\n",
    "\n",
    "You then requested a more comprehensive explanation, leading to a detailed discussion of the key factors that distinguish testable ideas and the characteristics of a strong null hypothesis.\n",
    "\n",
    "### Key Points from Our Discussion:\n",
    "\n",
    "*   **Falsifiability:** The conversation highlighted the concept of **falsifiability** as a central element of testable ideas. An idea is testable if it can be potentially refuted using data.\n",
    "\n",
    "*   **Specificity and Clarity:** A good null hypothesis is **specific**, **clear**, and directly addresses the research question. It should be formulated to enable statistical analysis using population parameters estimated from sample data.\n",
    "\n",
    "*   **Data Quality over Quantity:** While data availability is important, the **quality** and **relevance** of the data are more critical than the quantity.  The data should accurately represent the studied population and be collected using methods ensuring its reliability and validity.\n",
    "\n",
    "*   **Null vs. Alternative Hypothesis:** The **null hypothesis** represents the status quo or a commonly held belief being tested, while the **alternative hypothesis** encompasses all other possibilities, often representing the researcher's idea or the change being investigated. The goal is to determine if there's enough evidence to reject the null hypothesis in favour of the alternative hypothesis.\n",
    "\n",
    "*   **Assumption of Innocence:** In hypothesis testing, the null hypothesis is assumed true until proven otherwise, similar to the concept of \"innocent until proven guilty\".\n",
    "\n",
    "link: https://notebooklm.google.com/notebook/afbf5432-6e5d-4353-b867-d5b210a150a9?_gl=1*1dn9m4f*_ga*MTc4MDE3MDU5MC4xNzI4OTY3NjM5*_ga_W0LDH41ZCB*MTcyODk2NzYzOS4xLjAuMTcyODk2NzYzOS42MC4wLjA."
   ]
  },
  {
   "cell_type": "markdown",
   "id": "00ef0bcf",
   "metadata": {},
   "source": [
    "Q2. "
   ]
  },
  {
   "cell_type": "markdown",
   "id": "98130906",
   "metadata": {},
   "source": [
    "* \"It is important to note that outcomes of tests refer to the population parameter, rather than the sample statistic! As such, the result that we get is for the population.\" * \n",
    "\n",
    "Population: This is the entire group we are interested in studying. For example, if we're looking at the salaries of data scientists in the US, the population would be all data scientists in the US.\n",
    "\n",
    "Sample: Since studying the whole population is often impractical, we gather data from a smaller, representative group called a sample.\n",
    "\n",
    "Population Parameter (μ): This is a number that describes the entire population. For instance, the average salary of all US data scientists is a population parameter, represented by μ (mu).\n",
    "\n",
    "Sample Statistic (x̄): This is a number calculated from the sample. For example, the average salary of the data scientists in our sample is a sample statistic, represented by x̄ (x-bar).\n",
    "\n",
    "Hypothesized Population Parameter (μ₀): This is a specific value we want to test for the population parameter. For example, Glassdoor's claim that the average data scientist salary is $113,000 is a hypothesized population parameter, represented by **μ₀**.\n",
    "\n",
    "So it basically means  when we perform a statistical test, the goal is to make conclusions about the entire population, not just the sample we collected data from. The result of the test refers to a population parameter (a characteristic of the whole population), not just the sample statistic (a characteristic of the sample). In other words, even though we test only a small sample, we use the results to make educated guesses about the whole population."
   ]
  },
  {
   "cell_type": "markdown",
   "id": "59cced79",
   "metadata": {},
   "source": [
    "## Summarizing the Discussion on Inference from Sample to Population\n",
    "\n",
    "The conversation focused on understanding a statement from the YouTube transcript: \"It is important to note that outcomes of tests refer to the population parameter, rather than the sample statistic! As such, the result that we get is for the population.\" You offered an interpretation of this statement, aiming to explain it for a \"non-statistical\" audience, and asked for confirmation of your understanding. \n",
    "\n",
    "The discussion clarified the meaning of the statement and confirmed the accuracy of your interpretation. The core concept is that while we calculate statistics from a sample, the goal of hypothesis testing is to draw inferences about the population.  \n",
    "\n",
    "### Breaking Down the Key Concepts\n",
    "\n",
    "The conversation carefully defined several key statistical terms relevant to this concept:\n",
    "\n",
    "*   **Population:** The entire group of individuals or objects being studied (e.g., all data scientists in the US).\n",
    "*   **Sample:** A smaller, representative subset of the population from which data is collected.\n",
    "*   **Population Parameter (𝜇):** A numerical value describing a characteristic of the entire population (e.g., the average salary of all US data scientists).\n",
    "*   **Sample Statistic (x̄):** A numerical value calculated from the sample data (e.g., the average salary of the data scientists in the sample).\n",
    "*   **Hypothesized Population Parameter (𝜇0):** A specific value proposed for the population parameter that researchers aim to test (e.g., the claim that the average data scientist salary is \\$113,000).\n",
    "\n",
    "### Connecting the Concepts to Hypothesis Testing\n",
    "\n",
    "The discussion used the example from the YouTube transcript to illustrate how these concepts work together in hypothesis testing:\n",
    "\n",
    "1.  We start with a **hypothesized population parameter (𝜇0)** (e.g., the \\$113,000 average salary claim).\n",
    "2.  Data is collected from a **sample**.\n",
    "3.  A **sample statistic (x̄)** is calculated (e.g., the average salary of the sample).\n",
    "4.  A hypothesis test is performed to compare **x̄** with **𝜇0**.\n",
    "5.  Based on the test results, we infer something about the likely value of the true **population parameter (𝜇)**:\n",
    "    *   Rejecting the null hypothesis suggests the true population parameter is likely **different** from the hypothesized value.\n",
    "    *   Failing to reject the null hypothesis suggests the true population parameter **could be** the hypothesized value. \n",
    "\n",
    "The conversation emphasized that even though calculations are based on a sample, the outcome of the test tells us something about the entire population. Your initial understanding of this concept was confirmed as accurate. "
   ]
  },
  {
   "cell_type": "markdown",
   "id": "7ec9f5bd",
   "metadata": {},
   "source": [
    "Q3. "
   ]
  },
  {
   "cell_type": "markdown",
   "id": "1627deec",
   "metadata": {},
   "source": [
    "* We \"imagine a world where the null hypothesis is true\" when calculating a p-value? *\n",
    "\n",
    "Why:\n",
    "When calculating a p-value, we begin by assuming the null hypothesis is true, meaning we imagine a scenario where there’s no effect or difference (as the null hypothesis suggests). This approach helps us measure how likely our sample data would be if the null hypothesis were correct.\n",
    "\n",
    "The sampling distribution of the test statistic shows the range of values we’d expect to observe by chance if the null hypothesis were true. The p-value indicates how extreme our sample result is compared to this expected range."
   ]
  },
  {
   "cell_type": "markdown",
   "id": "5b817afb",
   "metadata": {},
   "source": [
    "Q4. "
   ]
  },
  {
   "cell_type": "markdown",
   "id": "a8e7f61f",
   "metadata": {},
   "source": [
    "A smaller p-value makes the null hypothesis look more ridiculous. \n",
    "\n",
    "Why:\n",
    "A smaller p-value makes the null hypothesis seem more \"ridiculous\" because it indicates that the observed data is very unlikely to occur if the null hypothesis were true. \n",
    "\n",
    "When we calculate a p-value, we start by assuming the null hypothesis is true. The null hypothesis typically suggests that there is no effect or no difference between groups. Based on this assumption, we calculate the Sampling distribution of the test statistic (like the mean, proportion, or another statistic), which shows the range of values that we would expect to see just by chance if the null hypothesis were correct.\n",
    "\n",
    "And a large p-value means that the test statistic (from our sample) falls within the range of values we’d typically expect to see under the null hypothesis. In this case, there is no reason to doubt the null hypothesis, as our data fits what we would expect by chance.\n",
    "\n",
    "On the other hand, small p-value means that the test statistic is far from the expected range of values under the null hypothesis. In other words, the observed data is very different from what we would expect to see if the null hypothesis were true.\n",
    "\n",
    "The smaller the p-value, the more unusual the data is in the context of the null hypothesis. This makes the null hypothesis appear less and less believable because it suggests that something else, other than random chance, is likely influencing the results. The actual data seems too unusual to have happened by chance alone."
   ]
  },
  {
   "cell_type": "markdown",
   "id": "d1447618",
   "metadata": {},
   "source": [
    "## Summary of interaction\n",
    "\n",
    "**Question:**  \n",
    "You were asked to explain why a smaller p-value makes the null hypothesis seem more \"ridiculous\" and to clarify the meaning of relevant statistical terms in your own words. You were provided with the following hint: discuss how the observed test statistic relates to the sampling distribution of the test statistic under the null hypothesis.\n",
    "\n",
    "**Your Answer:**  \n",
    "You explained that a smaller p-value makes the null hypothesis seem more \"ridiculous\" because it suggests that the observed data is highly unlikely to occur if the null hypothesis were true. You noted that:\n",
    "\n",
    "1. A p-value is calculated under the assumption that the null hypothesis is correct, which typically implies there is no effect or difference between groups.\n",
    "2. The sampling distribution of the test statistic represents the range of values we’d expect by chance if the null hypothesis were true.\n",
    "3. A large p-value indicates that the test statistic falls within the expected range under the null hypothesis, giving us little reason to doubt it.\n",
    "4. A small p-value suggests the test statistic is far from what we expect under the null hypothesis, meaning the observed data is unusual and likely influenced by something other than random chance.\n",
    "\n",
    "**Feedback and Clarification:**  \n",
    "Your answer was clear and well-structured, focusing on the relationship between the p-value, the test statistic, and the null hypothesis. To refine your explanation, it was suggested to emphasize that the smaller the p-value, the more the data seems inconsistent with the null hypothesis, making the null hypothesis less believable or \"ridiculous.\" Additionally, the role of the sampling distribution was highlighted as reflecting expected outcomes under the null hypothesis.\n",
    "\n",
    "link: https://chatgpt.com/c/670e556b-a294-800d-a832-349ad37c26ec"
   ]
  },
  {
   "cell_type": "markdown",
   "id": "a206d876",
   "metadata": {},
   "source": [
    "Q5. "
   ]
  },
  {
   "cell_type": "markdown",
   "id": "0adc0399",
   "metadata": {},
   "source": [
    "After the simulation:\n",
    "p-value ≈ 0.02 (moderate evidence): Based on the table in the question, this p-value falls in the range 0.05 ≥ p > 0.01, meaning there is moderate evidence against the null hypothesis.\n",
    "Therefore, with a p-value around 0.02, we would not strongly reject the null hypothesis, but we do have moderate evidence that there may be a preference for tilting heads to the right when kissing."
   ]
  },
  {
   "cell_type": "markdown",
   "id": "69aa8255",
   "metadata": {},
   "source": [
    "Q6. "
   ]
  },
  {
   "cell_type": "markdown",
   "id": "96677f92",
   "metadata": {},
   "source": [
    "A smaller p-value cannot definitively prove that the null hypothesis is false. It only indicates that the observed evidence is less likely to occur if the null hypothesis is true, but it doesn’t give absolute proof.\n",
    "\n",
    "In the Fido case, it’s impossible to definitively prove that Fido is innocent or guilty using a p-value alone. A low p-value may suggest rejecting the null hypothesis (e.g., \"Fido is innocent\"), but it does not prove guilt—it simply indicates that the evidence against innocence is strong. Similarly, a high p-value does not definitively prove innocence—it only suggests there isn’t enough evidence to reject it.\n",
    "\n",
    "No p-value can definitively prove guilt or innocence. Typically, a p-value below 0.05 is considered strong evidence against the null hypothesis, but it still doesn't provide absolute proof."
   ]
  },
  {
   "cell_type": "markdown",
   "id": "e28de91b",
   "metadata": {},
   "source": [
    "Q7. "
   ]
  },
  {
   "cell_type": "markdown",
   "id": "f096e345",
   "metadata": {},
   "source": [
    "Two-Sided Hypothesis Test:\n",
    "In a two-sided test, we are looking for evidence of a difference in either direction (whether the vaccine has a positive or negative effect compared to the null hypothesis). The p-value is calculated based on both tails of the distribution, meaning we are considering the probability of observing a value as extreme as the test statistic, whether it's higher or lower than the hypothesized value.\n",
    "\n",
    "One-Sided Hypothesis Test:\n",
    "In a one-sided test, we are only interested in one direction—either we hypothesize that the vaccine has a positive effect or no effect. In this case, the p-value is computed based on just one tail of the distribution (for example, if we are testing whether the vaccine increases health scores, we would only consider the upper tail of the distribution).\n",
    "\n",
    "Steps to Modify the Code:\n",
    "Calculate the Test Statistic: First, you would still calculate the test statistic as in the two-sided test. For instance, in this case, you might compare the average HealthScoreChange against a null hypothesis mean (e.g., no effect or HealthScoreChange = 0).\n",
    "\n",
    "Adjust the p-value Calculation:\n",
    "\n",
    "For a two-tailed test, you typically compute the probability of the observed result (or more extreme) occurring in both directions (e.g., less than or greater than the null hypothesis value).\n",
    "For a one-tailed test, you only calculate the probability in one direction (e.g., only greater than the null hypothesis if you're testing for a positive effect).\n",
    "The relevant code change would likely be in the section where the p-value is computed based on the bootstrap results. For a two-tailed test, you may have code like this:"
   ]
  },
  {
   "cell_type": "code",
   "execution_count": null,
   "id": "2fc54e7f",
   "metadata": {},
   "outputs": [],
   "source": [
    "p_value_two_tailed = (np.sum(np.abs(bootstrap_means - null_hypothesis_value) >= np.abs(observed_mean - null_hypothesis_value))) / len(bootstrap_means)"
   ]
  },
  {
   "cell_type": "markdown",
   "id": "2bd38ab5",
   "metadata": {},
   "source": [
    "For a one-tailed test, you would adjust this to only consider one direction:"
   ]
  },
  {
   "cell_type": "code",
   "execution_count": null,
   "id": "c829dec3",
   "metadata": {},
   "outputs": [],
   "source": [
    "p_value_one_tailed = (np.sum(bootstrap_means >= observed_mean)) / len(bootstrap_means)  # For a positive effect hypothesis"
   ]
  },
  {
   "cell_type": "markdown",
   "id": "431c0fdb",
   "metadata": {},
   "source": [
    "Interpretation of the Hypothesis Test:\n",
    "Two-tailed test interpretation: You're testing whether there is any difference in either direction between the observed effect and the null hypothesis.\n",
    "One-tailed test interpretation: You're testing whether the effect is specifically in one direction (e.g., that the vaccine improves health scores).\n",
    "P-value Comparison:\n",
    "Yes, the p-value for a one-tailed test is generally smaller than for a two-tailed test, because you're only considering one direction of deviation from the null hypothesis. The two-tailed test splits the alpha level (significance threshold) between two tails, while the one-tailed test focuses the entire alpha level on one tail."
   ]
  },
  {
   "cell_type": "markdown",
   "id": "6faa2eca",
   "metadata": {},
   "source": [
    "## Summary of interaction\n",
    "\n",
    "In this session, we discussed modifying code from \"Demo II of Week 5 TUT\" to compute a p-value for a one-tailed (or one-sided) hypothesis test, based on the Vaccine Data Analysis Assignment from Week 4 HW, Question 8. We began by revisiting the difference between two-tailed and one-tailed hypothesis tests.\n",
    "\n",
    "1. **Two-Tailed Test:** \n",
    "   - This test checks for evidence of a difference in either direction (positive or negative effect). The p-value is calculated based on both tails of the distribution.\n",
    "\n",
    "2. **One-Tailed Test:**\n",
    "   - This test focuses on one direction (either a positive or negative effect), and the p-value is computed based on just one tail of the distribution.\n",
    "\n",
    "We discussed the key change required to adjust the code: modifying the p-value calculation to focus on one direction. This involves replacing the two-tailed p-value formula with a one-tailed version. The following code snippets illustrate the difference:\n",
    "\n",
    "- **Two-Tailed Test:**\n",
    "   ```python\n",
    "   p_value_two_tailed = (np.sum(np.abs(bootstrap_means - null_hypothesis_value) >= np.abs(observed_mean - null_hypothesis_value))) / len(bootstrap_means)\n",
    "   ```\n",
    "\n",
    "- **One-Tailed Test (Positive Effect Hypothesis):**\n",
    "   ```python\n",
    "   p_value_one_tailed = (np.sum(bootstrap_means >= observed_mean)) / len(bootstrap_means)\n",
    "   ```\n",
    "\n",
    "Finally, we noted that the p-value for a one-tailed test is typically smaller than for a two-tailed test, since only one direction is considered. This change also impacts the interpretation of the hypothesis test, as the one-tailed test only considers evidence in favor of the hypothesis that the vaccine improves health scores (or has no effect, depending on the hypothesis).\n",
    "\n",
    "link: https://chatgpt.com/c/670e5946-2550-800d-89e6-85190edbdc7a"
   ]
  },
  {
   "cell_type": "markdown",
   "id": "563f7a1e",
   "metadata": {},
   "source": [
    "Q8. "
   ]
  },
  {
   "cell_type": "markdown",
   "id": "e352d527",
   "metadata": {},
   "source": [
    "1. There is an experiment with 80 STA130 students, where each student guesses whether milk or tea was poured first. The goal is to evaluate whether the 49 correct guesses (out of 80) could have occurred by random chance, or if there is evidence that students can genuinely tell the difference.\n",
    "\n",
    "2. In Fisher's original experiment, Dr. Muriel Bristol claimed she could tell the difference between tea being poured first or milk being poured first. Fisher tested this claim with a controlled hypothesis test. In your case, the experiment is similar, but with a much larger and more abstract population (students), and a different sample size (80 students vs. 8 cups).\n",
    "\n",
    "3. Let's set a hypothesis:\n",
    "Null Hypothesis 𝐻0: The STA130 students are guessing randomly, meaning they have a 50% chance of guessing correctly. Mathematically, 𝑝=0.5 where where 𝑝 is the true probability that a student guesses correctly.\n",
    "Alternative Hypothesis 𝐻1: The STA130 students are not guessing randomly, meaning 𝑝≠0.5\n",
    "\n",
    "4. Quantitative Analysis: Binomial Test\n",
    "We will use a binomial test to check if the observed 49 correct guesses are significantly different from the expected 40 correct guesses under the null hypothesis (𝑝 =0.5).\n",
    "\n",
    "Here is the reproducible code using np.random.seed():"
   ]
  },
  {
   "cell_type": "code",
   "execution_count": null,
   "id": "e242d0e4",
   "metadata": {},
   "outputs": [],
   "source": [
    "import numpy as np\n",
    "from scipy import stats\n",
    "\n",
    "# Set seed for reproducibility\n",
    "np.random.seed(42)\n",
    "\n",
    "# Parameters for the binomial test\n",
    "n = 80  # Number of students\n",
    "p_null = 0.5  # Probability of guessing correctly under H0\n",
    "k_obs = 49  # Observed number of correct guesses\n",
    "\n",
    "# Perform a binomial test\n",
    "p_value = stats.binom_test(k_obs, n=n, p=p_null, alternative='two-sided')\n",
    "\n",
    "print(f\"p-value: {p_value}\")"
   ]
  },
  {
   "cell_type": "markdown",
   "id": "0ce559a9",
   "metadata": {},
   "source": [
    "5. \n",
    " chose binomial test because we are testing whether a proportion (the proportion of correct guesses) is significantly different from a hypothesized proportion (50% under random guessing). In this case, the binomial distribution is appropriate because each student has two possible outcomes: guessing correctly or incorrectly.\n",
    "\n",
    "6. \n",
    "p-value from the binomial test: The p-value is approximately 0.057. Since this value is slightly greater than the typical significance level of 0.05, we fail to reject the null hypothesis. This means there isn’t enough evidence to conclude that the students are not guessing randomly.\n",
    "\n",
    "Interpretation: The 49 correct guesses could reasonably have occurred by chance if the students were guessing, so we do not have enough evidence to say that the students can genuinely tell the difference between the two pouring methods.\n",
    "\n",
    "7. Conclusion\n",
    "Based on the p-value from the binomial test, we fail to reject the null hypothesis. There is no strong evidence that the students have an ability to distinguish between whether tea or milk was poured first. Therefore, the result of 49 correct guesses could plausibly have occurred by random guessing."
   ]
  },
  {
   "cell_type": "markdown",
   "id": "b75ea157",
   "metadata": {},
   "source": [
    "## Summary of interaction\n",
    "\n",
    "1. **Assignment Overview**:\n",
    "   You’re working on an assignment involving Fisher’s Tea Experiment, where 80 STA130 students participated, and 49 correctly identified whether the milk or tea was poured first. You need to perform a formal hypothesis test and compare your results with Fisher’s original experiment.\n",
    "\n",
    "2. **Guidance Provided**:\n",
    "   I guided you on structuring the assignment by breaking it into steps:\n",
    "   - **Problem Introduction**: Summarizing the experiment and its connection to Fisher's original test.\n",
    "   - **Hypotheses**: Formulating both formal null and alternative hypotheses.\n",
    "   - **Quantitative Analysis**: Using either a hypothesis test or confidence interval approach to evaluate the results.\n",
    "   - **Methodology**: Explaining how to simulate a sampling distribution under the null hypothesis to estimate the p-value.\n",
    "   - **Code Structure**: Emphasizing the need for reproducibility with the use of `np.random.seed()` and providing clarity in your code and report.\n",
    "\n",
    "link: https://chatgpt.com/c/670e5d52-4320-800d-8a6b-881116f6bff2"
   ]
  },
  {
   "cell_type": "markdown",
   "id": "59138e79",
   "metadata": {},
   "source": [
    "Q9. "
   ]
  },
  {
   "cell_type": "markdown",
   "id": "90c913df",
   "metadata": {},
   "source": [
    "Have you reviewed the course wiki-textbook and interacted with a ChatBot (or, if that wasn't sufficient, real people in the course piazza discussion board or TA office hours) to help you understand all the material in the tutorial and lecture that you didn't quite follow when you first saw it?\n",
    "Yes I did review things "
   ]
  }
 ],
 "metadata": {
  "kernelspec": {
   "display_name": "Python 3 (ipykernel)",
   "language": "python",
   "name": "python3"
  },
  "language_info": {
   "codemirror_mode": {
    "name": "ipython",
    "version": 3
   },
   "file_extension": ".py",
   "mimetype": "text/x-python",
   "name": "python",
   "nbconvert_exporter": "python",
   "pygments_lexer": "ipython3",
   "version": "3.11.6"
  }
 },
 "nbformat": 4,
 "nbformat_minor": 5
}
